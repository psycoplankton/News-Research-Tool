{
 "cells": [
  {
   "cell_type": "code",
   "execution_count": 5,
   "metadata": {},
   "outputs": [
    {
     "name": "stdout",
     "output_type": "stream",
     "text": [
      "Collecting python-libmagic\n",
      "  Downloading python-libmagic-0.4.0.tar.gz (3.6 kB)\n",
      "  Preparing metadata (setup.py): started\n",
      "  Preparing metadata (setup.py): finished with status 'done'\n",
      "Collecting cffi==1.7.0 (from python-libmagic)\n",
      "  Downloading cffi-1.7.0.tar.gz (400 kB)\n",
      "     ---------------------------------------- 0.0/400.3 kB ? eta -:--:--\n",
      "     - -------------------------------------- 10.2/400.3 kB ? eta -:--:--\n",
      "     --- --------------------------------- 41.0/400.3 kB 653.6 kB/s eta 0:00:01\n",
      "     ------- ----------------------------- 81.9/400.3 kB 651.6 kB/s eta 0:00:01\n",
      "     ------------------------- ------------ 266.2/400.3 kB 1.8 MB/s eta 0:00:01\n",
      "     -------------------------------------- 400.3/400.3 kB 2.1 MB/s eta 0:00:00\n",
      "  Preparing metadata (setup.py): started\n",
      "  Preparing metadata (setup.py): finished with status 'done'\n",
      "Requirement already satisfied: pycparser in c:\\users\\vansh\\anaconda3\\envs\\new_genai\\lib\\site-packages (from cffi==1.7.0->python-libmagic) (2.21)\n",
      "Building wheels for collected packages: python-libmagic, cffi\n",
      "  Building wheel for python-libmagic (setup.py): started\n",
      "  Building wheel for python-libmagic (setup.py): finished with status 'done'\n",
      "  Created wheel for python-libmagic: filename=python_libmagic-0.4.0-py3-none-any.whl size=4118 sha256=cada107a7f2e32d8320061bf0c580b5f1d5a6dfab4d35fe75763694178108af1\n",
      "  Stored in directory: c:\\users\\vansh\\appdata\\local\\pip\\cache\\wheels\\ae\\73\\bf\\1e25e331ecf164ad0a5659cffb76ccb5c2225d069a6f5529ee\n",
      "  Building wheel for cffi (setup.py): started\n",
      "  Building wheel for cffi (setup.py): finished with status 'error'\n",
      "  Running setup.py clean for cffi\n",
      "Successfully built python-libmagic\n",
      "Failed to build cffi\n",
      "Note: you may need to restart the kernel to use updated packages.\n"
     ]
    },
    {
     "name": "stderr",
     "output_type": "stream",
     "text": [
      "  error: subprocess-exited-with-error\n",
      "  \n",
      "  × python setup.py bdist_wheel did not run successfully.\n",
      "  │ exit code: 1\n",
      "  ╰─> [26 lines of output]\n",
      "      running bdist_wheel\n",
      "      running build\n",
      "      running build_py\n",
      "      creating build\n",
      "      creating build\\lib.win-amd64-cpython-38\n",
      "      creating build\\lib.win-amd64-cpython-38\\cffi\n",
      "      copying cffi\\api.py -> build\\lib.win-amd64-cpython-38\\cffi\n",
      "      copying cffi\\backend_ctypes.py -> build\\lib.win-amd64-cpython-38\\cffi\n",
      "      copying cffi\\cffi_opcode.py -> build\\lib.win-amd64-cpython-38\\cffi\n",
      "      copying cffi\\commontypes.py -> build\\lib.win-amd64-cpython-38\\cffi\n",
      "      copying cffi\\cparser.py -> build\\lib.win-amd64-cpython-38\\cffi\n",
      "      copying cffi\\ffiplatform.py -> build\\lib.win-amd64-cpython-38\\cffi\n",
      "      copying cffi\\lock.py -> build\\lib.win-amd64-cpython-38\\cffi\n",
      "      copying cffi\\model.py -> build\\lib.win-amd64-cpython-38\\cffi\n",
      "      copying cffi\\recompiler.py -> build\\lib.win-amd64-cpython-38\\cffi\n",
      "      copying cffi\\setuptools_ext.py -> build\\lib.win-amd64-cpython-38\\cffi\n",
      "      copying cffi\\vengine_cpy.py -> build\\lib.win-amd64-cpython-38\\cffi\n",
      "      copying cffi\\vengine_gen.py -> build\\lib.win-amd64-cpython-38\\cffi\n",
      "      copying cffi\\verifier.py -> build\\lib.win-amd64-cpython-38\\cffi\n",
      "      copying cffi\\__init__.py -> build\\lib.win-amd64-cpython-38\\cffi\n",
      "      copying cffi\\_cffi_include.h -> build\\lib.win-amd64-cpython-38\\cffi\n",
      "      copying cffi\\parse_c_type.h -> build\\lib.win-amd64-cpython-38\\cffi\n",
      "      copying cffi\\_embedding.h -> build\\lib.win-amd64-cpython-38\\cffi\n",
      "      running build_ext\n",
      "      building '_cffi_backend' extension\n",
      "      error: Microsoft Visual C++ 14.0 or greater is required. Get it with \"Microsoft C++ Build Tools\": https://visualstudio.microsoft.com/visual-cpp-build-tools/\n",
      "      [end of output]\n",
      "  \n",
      "  note: This error originates from a subprocess, and is likely not a problem with pip.\n",
      "  ERROR: Failed building wheel for cffi\n",
      "ERROR: Could not build wheels for cffi, which is required to install pyproject.toml-based projects\n"
     ]
    }
   ],
   "source": [
    "%pip install python-libmagic"
   ]
  },
  {
   "cell_type": "code",
   "execution_count": 6,
   "metadata": {},
   "outputs": [
    {
     "name": "stderr",
     "output_type": "stream",
     "text": [
      "UsageError: Line magic function `%pip3` not found.\n"
     ]
    }
   ],
   "source": [
    "%pip3 install unstructured libmagic python-magic python-magic-bin"
   ]
  },
  {
   "cell_type": "code",
   "execution_count": 2,
   "metadata": {},
   "outputs": [],
   "source": [
    "from langchain.document_loaders import UnstructuredURLLoader"
   ]
  },
  {
   "cell_type": "code",
   "execution_count": 3,
   "metadata": {},
   "outputs": [],
   "source": [
    "import magic"
   ]
  },
  {
   "cell_type": "code",
   "execution_count": 4,
   "metadata": {},
   "outputs": [],
   "source": [
    "loader = UnstructuredURLLoader(urls=[\n",
    "    \"https://www.geeksforgeeks.org/python-os-makedirs-method/\"\n",
    "])\n",
    "data = loader.load()\n"
   ]
  },
  {
   "cell_type": "code",
   "execution_count": 5,
   "metadata": {},
   "outputs": [
    {
     "data": {
      "text/plain": [
       "[Document(metadata={'source': 'https://www.geeksforgeeks.org/python-os-makedirs-method/'}, page_content='Skip to content\\n\\nCoursesDSA to DevelopmentFor Working ProfessionalsData Structure & Algorithm Classes (Live)System Design (Live)JAVA Backend Development(Live)DevOps(Live)Data Structures & Algorithms in PythonFor StudentsInterview Preparation CourseGATE CS & IT 2024Data Science (Live)Data Structure & Algorithm-Self Paced(C++/JAVA)Master Competitive Programming(Live)Full Stack Development with React & Node JS(Live)For School StudentsCBSE Class 12 Computer ScienceSchool GuidePython Programming FoundationAll Courses\\n\\nTutorialsPython TutorialTaking Input in PythonPython OperatorsPython VariablesPython Data TypesData TypesPython NumbersPython StringPython ListsPython TuplesSets in PythonPython DictionaryPython Loops and Control FlowConditional StatementsLoops in PythonPython If ElsePython For LoopsPython While LoopsPython BreaksPython Continue StatementPython Pass StatementPython FunctionsPython OOPS ConceptDSA in PythonPython Exception HandlingPython File HandlingComplete Python TutorialPython ExercisesPython List ExercisePython String ExercisePython Tuple ExercisePython Dictionary ExercisePython Set ExercisePython Design PatternsPython Programming ExamplesPython Practice QuestionsWeb Development in PythonDjangoDjango TutorialTop Django ProjectsDjango Interview QuestionsFlaskFlask TutorialPython Flask ProjectsFlask Interview QuestionsPostmanGithubWeb Scrapping in PythonData Structures & AlgorithmsDSA for BeginnersData StructuresArraysMatrixStringsLinked ListStackQueueTreeGeneric TreeBinary TreeBinary Search TreeAVL TreeB TreeB+ TreeRed Black TreeTree Data Structure TutorialHeapHashingGraphSet Data StructureMap Data StructureAdvanced Data StructureData Structures TutorialAlgorithmsAnalysis of AlgorithmsSearching AlgorithmsLinear SearchBinary SearchSearching Algorithms TutorialSorting AlgorithmsSelection SortBubble SortInsertion SortMerge SortQuick SortHeap SortCounting SortRadix SortBucket SortSorting Algorithms TutorialGreedy AlgorithmsDynamic ProgrammingGraph AlgorithmsPattern SearchingRecursionBacktrackingDivide and ConquerMathematical AlgorithmsGeometric AlgorithmsBitwise AlgorithmsRandomized AlgorithmsBranch and BoundAlgorithms TutorialComplete DSA TutorialCompetitive ProgrammingCompany Wise SDE SheetsFacebook SDE SheetAmazon SDE SheetApple SDE SheetNetflix SDE SheetGoogle SDE SheetWipro Coding SheetInfosys Coding SheetTCS Coding SheetCognizant Coding SheetHCL Coding SheetDSA Cheat SheetsDSA Sheet for BeginnersSDE SheetsFAANG Coding SheetLove Babbar SheetMass Recruiter SheetProduct-Based Coding SheetCompany-Wise Preparation SheetTop 100 DSA Interview Questions Topic-wise100 Days of CodeDSA BlogsSystem DesignSystem Design TutorialSoftware Design PatternsSystem Design RoadmapTop 10 System Design Interview QuestionsInterview CornerCompany PreparationTop TopicsPractice Company QuestionsInterview ExperiencesExperienced InterviewsInternship InterviewsCompetitive ProgrammingMultiple Choice QuizzesAptitude for PlacementsPuzzles for InterviewsLanguagesCC++JavaPythonR TutorialC#SQLScalaPerlGo LanguageWeb DevelopmentHTMLCSSJavaScriptTypeScriptReactJSReact JS TutorialNextJSNode.jsPHPAngularJSjQueryWeb Design100 Days of Web DevelopmentCS SubjectsEngineering MathematicsOperating SystemDBMSComputer NetworksComputer Organization and ArchitectureTheory of ComputationCompiler DesignDigital LogicSoftware EngineeringDevOps And LinuxDevOps TutorialGITAWSKubernetesDockerMicrosoft Azure TutorialGoogle Cloud PlatformDevOps RoadmapDevOps Interview QuestionsLinuxLinux TutorialLinux Commands A-ZLinux Commands CheatsheetFile Permissions in LinuxLinux System AdministrationLinux File SystemLinux Shell ScriptingLinux NetworkingLinux Interview QuestionsSchool LearningClass 8 Study MaterialClass 9 Study MaterialClass 10 Study MaterialClass 11 Study MaterialClass 12 Study MaterialEnglish GrammarGfG SchoolCommerceGATEGATE Computer Science NotesLast Minute NotesGATE CS Solved PapersGATE CS Original Papers and Official KeysGATE CS 2025 SyllabusGATE DA 2025 SyllabusOther CS ExamsISROUGC NETGeeksforGeeks Videos\\n\\nData SciencePython TutorialR TutorialMachine LearningML TutorialML ProjectsML Maths100 Days of Machine LearningData Science using PythonData Science using RData Science PackagesPandas TutorialNumPy TutorialData VisualizationPython Data Visualization with PythonPython Data Visualization TutorialMatplotlib TutorialBokeh TutorialPlotly TutorialSeaborn TutorialData Visualization with RData Visualization with RPlotly Tutorialggplot TutorialData Visualization ToolsTableauPower BIData AnalysisData Analysis with PythonData Analysis with R100 Days of Data AnalyticsDeep LearningDeep Learning TutorialDeep Learning ProjectsNLP TutorialComputer VisionComputer Vision TutorialComputer Vision ProjectsInterview CornerMachine Learning Interview QuestionDeep Learning Interview QuestionNLP Interview QuestionPython Interview QuestionsTop 50 R Interview QuestionsML FrameworksTensorflowPyTorchPyTorch Lightning\\n\\nPracticeAll DSA ProblemsProblem of the DayGFG SDE SheetCurated DSA ListsBeginner\\'s DSA SheetLove Babbar SheetTop 50 Array ProblemsTop 50 String ProblemsTop 50 Tree ProblemsTop 50 Graph ProblemsTop 50 DP Problems\\n\\nPython CoursePython BasicsInterview QuestionsPython QuizPopular PackagesPython ProjectsPractice PythonAI With PythonLearn Python3Python AutomationPython Web DevDSA with PythonPython OOPsListsStringsDictionaries        \\r\\n        \\r\\n            \\r\\n        \\r\\n    \\r\\n    ▲\\r\\n    \\r\\n    \\r\\n\\r\\n\\r\\n\\r\\n\\r\\n\\r\\n\\r\\n\\r\\n\\r\\n\\r\\n\\r\\n\\r\\n\\r\\n\\r\\n\\r\\n    \\r\\n        Open In App\\r\\n    \\r\\n\\r\\n    \\r\\n    \\r\\n\\r\\n\\r\\n            \\r\\n            \\r\\n    \\r\\n            \\r\\n          \\r\\n                \\r\\n                \\r\\n                Content Improvement EventShare Your ExperiencesOS Module in Python with ExamplesProcess ParametersPython | os.ctermid() methodPython | os.environ objectPython os.chdir() methodPython | os.fchdir() methodPython | os.getcwd() methodPython | os.getenv() methodPython | os.get_exec_path() methodPython | os.geteuid() and seteuid() methodPython | os.getgrouplist() methodPython | os.getgroups() methodPython | os.getlogin() methodPython | os.getpgid() methodPython | os.getpgrp() methodPython | os.getpid() methodPython | os.getppid() methodPython | os.getresuid() and os.setresuid() methodPython | os.getuid() and os.setuid() methodPython | os.setregid() methodPython | os.setreuid() methodPython | os.setgroups() methodPython | os.getsid()  methodPython | os.strerror() methodPython | os.supports_bytes_environ objectPython | os.umask() methodInheritance of File DescriptorsPython | os.set_inheritable() methodPython | os.get_terminal_size() methodInterface to the schedulerPython | os.sched_rr_get_interval() methodPython | os.sched_setaffinity() methodPython | os.sched_getaffinity() methodPython | os.confstr() methodSystem InformationPython | os.sysconf() methodPython | os.access() MethodPython | os.chflags() methodPython | os.chown() methodPython - os.chroot() methodFiles and DirectoriesPython | os.link() methodPython | os.listdir() methodPython | os.mkdir() methodPython | os.makedirs() methodPython | os.mkfifo() methodPython | os.major() methodPython | os.minor() methodPython | os.makedev() methodPython | os.readlink() methodPython | os.remove() methodPython | os.removedirs()  methodPython | os.rename() methodPython | os.renames() methodPython - os.replace()  methodPython | os.rmdir() methodPython | os.scandir() methodPython | os.stat() methodPython | os.statvfs() methodPython | os.sync() methodPython | os.truncate() methodPython | os.unlink() methodos.walk() in PythonPython | os.abort() methodPython | os._exit() methodPython | os.fork() methodPython | os.kill() methodPython | os.nice() methodPython | os.system() methodPython | os.times() methodPython | os.wait() methodPython | os.open() methodProcess ManagementPython | os.device_encoding() methodPython | os.dup() methodPython | os.dup2() methodPython | os.fchmod() methodPython | os.fchown() methodPython | os.fdatasync() methodPython | os.fstat() methodPython | os.fstatvfs() methodFile Descriptor OperationsPython | os.get_blocking() methodPython | os.isatty() methodPython | os.openpty() methodPython | os.pipe() methodPython | os.pipe2() methodPython | os.pread() methodPython | os.write() methodPython | os.pwrite() methodPython | os.read() methodPython | os.sendfile() methodPython | os.set_blocking() methodCoding for Everyone Course            \\r\\n             \\r\\n        \\r\\n            \\r\\n            \\r\\n                \\r\\n                    \\r\\n                        \\r\\n                        \\r\\n                        \\r\\n                                                                                   \\r\\n                            \\r\\n                                                                \\r\\n                                        \\r\\n                                            Python | os.makedirs() method\\r\\n                                        \\r\\n                                                                                    \\r\\n                                                Last Updated : \\r\\n                                                15 Jan, 2024\\r\\n                                            \\r\\n                                                                            \\r\\n                                                                \\r\\n                                 \\r\\n                                                                     \\r\\n                                                                                             \\r\\n                                                    Comments\\r\\n                                                    \\r\\n                                                        \\r\\n                                                          \\r\\n                                                        \\r\\n                                                    \\r\\n                                                \\r\\n                                                                                         \\r\\n                                                Improve\\r\\n                                                \\r\\n                                                    \\r\\n                                                      \\r\\n                                                    \\r\\n                                                \\r\\n\\r\\n                                                                                     \\r\\n                                    \\r\\n                                        \\r\\n                                                                                            \\r\\n                                                                                    \\r\\n                                        \\r\\n                                        \\r\\n                                    \\r\\n                                  \\r\\n                                 \\r\\n                            \\r\\n                            \\r\\n                            \\r\\n                                        \\r\\n                                            \\r\\n                                                                                            \\r\\n                                                    \\r\\n                                                        \\r\\n                                                        \\r\\n                                                            \\r\\n                                                            Summarize\\r\\n                                                        \\r\\n                                                    \\r\\n                                                \\r\\n                                                                                         \\r\\n                                                \\r\\n                                                    \\r\\n                                                        \\r\\n                                                        Suggest changes\\r\\n                                                    \\r\\n                                                \\r\\n                                                                                                                                      \\r\\n                                            \\r\\n                                                     \\r\\n                                                        Like Article\\r\\n                                                    \\r\\n                                                    \\r\\n                                                        \\r\\n                                                        Like\\r\\n                                                    \\r\\n                                                \\r\\n\\r\\n                                            \\r\\n                                            \\r\\n                                                \\r\\n                                                    \\r\\n                                                        \\r\\n                                                        Save\\r\\n                                                    \\r\\n                                                \\r\\n\\r\\n                                            \\r\\n                                            \\r\\n                                                \\r\\n                                                    \\r\\n                                                        \\r\\n                                                        Share\\r\\n                                                    \\r\\n                                                \\r\\n                                            \\r\\n                                            \\r\\n                                                \\r\\n                                                    \\r\\n                                                        \\r\\n                                                        Report\\r\\n                                                    \\r\\n                                                \\r\\n\\r\\n                                            \\r\\n                                            \\r\\n                                                \\r\\n                                                    \\r\\n                                                    Follow\\r\\n                                                \\r\\n                                            \\r\\n                                        \\r\\n                                    \\r\\n                            \\r\\n                                                                All functions in the os module raise OSError in the case of invalid or inaccessible file names and paths, or other arguments that have the correct type but are not accepted by the operating system.\\xa0In this article, we will see how to create directories recursively using the os module and also about os.makedirs() method.\\nPython os.makedirs() Function Syntax\\n\\nSyntax: os.makedirs(path, mode = 0o777, exist_ok = False)\\xa0\\nParameter:\\xa0\\n\\npath: A path-like object representing a file system path. A path-like object is either a string or bytes object representing a path.\\nmode (optional) : A Integer value representing mode of the newly created directory..If this parameter is omitted then the default value Oo777 is used.\\nexist_ok (optional) : A default value False is used for this parameter. If the target directory already exists an OSError is raised if its value is False otherwise not. For value True leaves directory unaltered.\\xa0\\n\\nReturn Type: This method does not return any value.\\n\\nos.makedirs() Method in Python\\nos.makedirs() method in Python is used to create a directory recursively. That means while making leaf directory if any intermediate-level directory is missing, os.makedirs() method will create them all.\\nFor example, consider the following path:\\n/home/User/Documents/GeeksForGeeks/Authors/ihritik\\nSuppose we want to create directory ‘ihritik’ but Directory ‘GeeksForGeeks’ and ‘Authors’ are unavailable in the path. Then os.makedirs() method will create all unavailable/missing directory in the specified path. ‘GeeksForGeeks’ and ‘Authors’ will be created first then ‘ihritik’ directory will be created.\\nPython os.makedirs() Function Examples\\nBelow are some examples of os.makedirs() function by which we can see how to create directories recursively using the os module:\\nCreating Directory Using os.makedirs()\\nIn this example, the os.makedirs() method is utilized to create nested directories. The first section creates a directory named “ihritik” within the “Authors” directory path. The second section, with specified permissions, creates a directory “c” nested within “GeeksforGeeks/a/b”.\\n\\n\\nPython3\\n\\n\\n\\n\\n\\n\\n\\n                                    \\n\\n                                    \\n                                    \\n\\n                                    \\n\\n                                    \\n                                    \\n                                    \\n                                \\n\\n\\n\\n\\n\\n\\n\\n\\n\\n\\nimport os\\n\\xa0\\n# Leaf directory\\ndirectory = \"ihritik\"\\n\\xa0\\n# Parent Directories\\nparent_dir = \"/home/User/Documents/GeeksForGeeks/Authors\"\\n\\xa0\\n# Path\\npath = os.path.join(parent_dir, directory)\\n\\xa0\\n# Create the directory \\'ihritik\\'\\nos.makedirs(path)\\nprint(\"Directory \\'%s\\' created\" % directory)\\n\\xa0\\n# Leaf directory\\ndirectory = \"c\"\\n\\xa0\\n# Parent Directories\\nparent_dir = \"/home/User/Documents/GeeksforGeeks/a/b\"\\n\\xa0\\n# mode\\nmode = 0o666\\n\\xa0\\npath = os.path.join(parent_dir, directory)\\n\\xa0\\nos.makedirs(path, mode)\\nprint(\"Directory \\'%s\\' created\" % directory)\\n\\n\\n\\n\\n\\n\\n\\n\\n\\n\\n                        \\n\\n\\n\\n                        \\n\\n\\n\\n\\nOutput:\\nDirectory \\'ihritik\\' createdDirectory \\'c\\' created\\nErrors while using os.makedirs() method\\nIn this example, the os.makedirs() method attempts to create a directory named “ihritik” within the “GeeksForGeeks” path. If the directory already exists, the method raises an OSError. Upon successful creation, a confirmation message is printed.\\n\\n\\nPython3\\n\\n\\n\\n\\n\\n\\n\\n                                    \\n\\n                                    \\n                                    \\n\\n                                    \\n\\n                                    \\n                                    \\n                                    \\n                                \\n\\n\\n\\n\\n\\n\\n\\n\\n\\n\\nimport os\\n\\xa0\\n# Directory\\ndirectory = \"ihritik\"\\n\\xa0\\n# Parent Directory path\\nparent_dir = \"/home/User/Documents/GeeksForGeeks\"\\n\\xa0\\n# Path\\npath = os.path.join(parent_dir, directory)\\n\\xa0\\n# Create the directory \\'ihritik\\'\\nos.makedirs(path)\\nprint(\"Directory \\'%s\\' created\" % directory)\\n\\n\\n\\n\\n\\n\\n\\n\\n\\n\\n                        \\n\\n\\n\\n                        \\n\\n\\n\\n\\nOutput:\\nTraceback (most recent call last):  File \"makedirs.py\", line 21, in     os.makedirs(path)  File \"/usr/lib/python3.6/os.py\", line 220, in makedirs    mkdir(name, mode)FileExistsError: [Errno 17] File exists: \\'/home/User/Documents/GeeksForGeeks/ihritik\\'\\nHandling errors while using os.makedirs() method\\nIn this example, the os.makedirs() method is used with the exist_ok parameter set to True to suppress OSError if the directory already exists. If the directory doesn’t exist, it will be created. However, other OSError exceptions, such as an invalid path name, can still be raised and need to be handled separately.\\n\\n\\nPython3\\n\\n\\n\\n\\n\\n\\n\\n                                    \\n\\n                                    \\n                                    \\n\\n                                    \\n\\n                                    \\n                                    \\n                                    \\n                                \\n\\n\\n\\n\\n\\n\\n\\n\\n\\n\\nimport os\\n\\xa0\\n# Directory\\ndirectory = \"ihritik\"\\n\\xa0\\n# Parent Directory path\\nparent_dir = \"/home/ihritik/Desktop/GeeksForGeeks\"\\n\\xa0\\n# Path\\npath = os.path.join(parent_dir, directory)\\n\\xa0\\n# Create the directory \\'ihritik\\'\\ntry:\\n\\xa0\\xa0\\xa0\\xa0os.makedirs(path, exist_ok=True)\\n\\xa0\\xa0\\xa0\\xa0print(\"Directory \\'%s\\' created successfully\" % directory)\\nexcept OSError as error:\\n\\xa0\\xa0\\xa0\\xa0print(\"Directory \\'%s\\' can not be created\")\\n\\n\\n\\n\\n\\n\\n\\n\\n\\n\\n                        \\n\\n\\n\\n                        \\n\\n\\n\\n\\nOutput:\\nDirectory \\'ihritik\\' created successfully\\n\\r\\n\\r\\n                                    \\r\\n                                                                        \\r\\n                                        \\r\\n                                            \\r\\n                                                \\r\\n                                                    I\\r\\n        \\r\\n            \\r\\n        \\r\\n        \\r\\n                                                \\r\\n                                                \\r\\n                                                    ihritik                                                \\r\\n                                            \\r\\n                                            \\r\\n            \\r\\n            \\r\\n\\r\\n Follow                                        \\r\\n                                        \\r\\n                                            \\r\\n                                                \\r\\n                                                    \\r\\n                                                \\r\\n                                            \\r\\n                                            \\r\\n    \\r\\n        \\r\\n        \\r\\n                                                \\r\\n                                                \\r\\n                                                \\r\\n                                                    \\r\\n                                                    \\r\\n                                                \\r\\n                                            \\r\\n                                            \\r\\n                                            Improve\\r\\n                                                \\r\\n                                            \\r\\n                                        \\r\\n                                    \\r\\n\\r\\n\\r\\n                            \\r\\n                                                            \\r\\n                                    \\r\\n                                        \\r\\n                                        Previous Article\\r\\n                                    \\r\\n                                    \\r\\n                                    \\r\\n                                        Python | os.minor() method\\r\\n                                    \\r\\n                                \\r\\n                                                            \\r\\n                                    \\r\\n                                        Next Article\\r\\n                                        \\r\\n                                    \\r\\n                                    \\r\\n                                    \\r\\n                                        Python | os.readlink() method\\r\\n                                    \\r\\n                                \\r\\n                                                        \\r\\n                            \\r\\n            \\r\\n                \\r\\n                    \\r\\n                    \\r\\n                 \\r\\n                     Please Login to comment...\\r\\n                            \\r\\n                                \\r\\n                            \\r\\n\\r\\n                            \\r\\n\\r\\n            \\r\\n          \\r\\n                        \\r\\n                                                \\r\\n                        \\r\\n                                                    \\r\\n                                Read More\\r\\n                                \\r\\n                            \\r\\n                                                    \\r\\n                                Similar Reads\\r\\n                                \\r\\n                                    \\r\\n        \\r\\n            \\r\\n                Class Method vs Static Method vs Instance Method in Python\\r\\n                Three important types of methods in Python are class methods, static methods, and instance methods. Each serves a distinct purpose and contributes to the overall flexibility and functionality of object-oriented programming in Python. In this article, we will see the difference between class method, static method, and instance method with the help o\\r\\n            \\r\\n            \\r\\n            \\r\\n                \\r\\n                5 min read\\r\\n            \\r\\n        \\r\\n    \\r\\n        \\r\\n            \\r\\n                Difference between Method Overloading and Method Overriding in Python\\r\\n                Method Overloading: Method Overloading is an example of Compile time polymorphism. In this, more than one method of the same class shares the same method name having different signatures. Method overloading is used to add more to the behavior of methods and there is no need of more than one class for method overloading.Note: Python does not support\\r\\n            \\r\\n            \\r\\n            \\r\\n                \\r\\n                3 min read\\r\\n            \\r\\n        \\r\\n    \\r\\n        \\r\\n            \\r\\n                Class method vs Static method in Python\\r\\n                In this article, we will cover the basic difference between the class method vs Static method in Python and when to use the class method and static method in python. What is Class Method in Python? The @classmethod decorator is a built-in function decorator that is an expression that gets evaluated after your function is defined. The result of that\\r\\n            \\r\\n            \\r\\n            \\r\\n                \\r\\n                5 min read\\r\\n            \\r\\n        \\r\\n    \\r\\n        \\r\\n            \\r\\n                Pandas DataFrame iterrows() Method | Pandas Method\\r\\n                Pandas DataFrame iterrows() iterates over a Pandas DataFrame rows in the form of (index, series) pair. This function iterates over the data frame column, it will return a tuple with the column name and content in the form of a series. Example: Python Code import pandas as pd df = pd.DataFrame({ \\'Name\\': [\\'Alice\\', \\'Bob\\', \\'Charlie\\'], \\'Age\\': [25, 32, 3\\r\\n            \\r\\n            \\r\\n            \\r\\n                \\r\\n                2 min read\\r\\n            \\r\\n        \\r\\n    \\r\\n        \\r\\n            \\r\\n                Pandas DataFrame interpolate() Method | Pandas Method\\r\\n                Python is a great language for data analysis, primarily because of the fantastic ecosystem of data-centric Python packages. Pandas is one of those packages and makes importing and analyzing data much easier.\\xa0 Python Pandas interpolate() method is used to fill NaN values in the DataFrame or Series using various interpolation techniques to fill the m\\r\\n            \\r\\n            \\r\\n            \\r\\n                \\r\\n                3 min read\\r\\n            \\r\\n        \\r\\n    \\r\\n        \\r\\n            \\r\\n                Pandas DataFrame duplicated() Method | Pandas Method\\r\\n                Python is a great language for doing data analysis, primarily because of the fantastic ecosystem of data-centric Python packages. Pandas is one of those packages and makes importing and analyzing data much easier. Pandas duplicated() method identifies duplicated rows in a DataFrame. It returns a boolean series which is True only for unique rows. Ex\\r\\n            \\r\\n            \\r\\n            \\r\\n                \\r\\n                3 min read\\r\\n            \\r\\n        \\r\\n    \\r\\n        \\r\\n            \\r\\n                What is the Proper Way to Call a Parent\\'s Class Method Inside a Class Method?\\r\\n                In object-oriented programming, calling a parent class method inside a class method is a common practice, especially when you want to extend or modify the functionality of an inherited method. This process is known as method overriding. Here\\'s how to properly call a parent class method inside a class method in Python. Basic Syntax Using super()The\\r\\n            \\r\\n            \\r\\n            \\r\\n                \\r\\n                3 min read\\r\\n            \\r\\n        \\r\\n    \\r\\n        \\r\\n            \\r\\n                Real-Time Edge Detection using OpenCV in Python | Canny edge detection method\\r\\n                Edge detection is one of the fundamental image-processing tasks used in various Computer Vision tasks to identify the boundary or sharp changes in the pixel intensity. It plays a crucial role in object detection, image segmentation and feature extraction from the image. In Real-time edge detection, the image frame coming from a live webcam or video\\r\\n            \\r\\n            \\r\\n            \\r\\n                \\r\\n                5 min read\\r\\n            \\r\\n        \\r\\n    \\r\\n        \\r\\n            \\r\\n                Python | os._exit() method\\r\\n                OS module in Python provides functions for interacting with the operating system. OS comes under Python’s standard utility modules. This module provides a portable way of using operating system dependent functionality. os._exit() method in Python is used to exit the process with specified status without calling cleanup handlers, flushing stdio buff\\r\\n            \\r\\n            \\r\\n            \\r\\n                \\r\\n                2 min read\\r\\n            \\r\\n        \\r\\n    \\r\\n        \\r\\n            \\r\\n                Python | os.WEXITSTATUS() method\\r\\n                OS module in Python provides functions for interacting with the operating system. OS comes under Python’s standard utility modules. This module provides a portable way of using operating system dependent functionality. os.WEXITSTATUS() method in Python is used to get the integer parameter used by a process in exit(2) system call if os.WIFEXITED(sta\\r\\n            \\r\\n            \\r\\n            \\r\\n                \\r\\n                3 min read\\r\\n            \\r\\n        \\r\\n                                    \\r\\n                                                                    View More Articles\\r\\n                                                            \\r\\n                        \\r\\n\\r\\n                        \\r\\n                                                            \\r\\n                                    Article Tags : \\r\\n                                    \\r\\n                                        \\r\\n                \\r\\n                    Python\\r\\n                \\r\\n                \\r\\n                    Python OS-path-module\\r\\n                \\r\\n                \\r\\n                    python-os-module\\r\\n                                                    \\r\\n                                                                    \\r\\n                                                                                        \\r\\n                                    Practice Tags : \\r\\n                                    \\r\\n                                        python                                    \\r\\n                                                                    \\r\\n                                                    \\r\\n                                                \\r\\n                                \\r\\n                                    \\r\\n                                        \\r\\n                                        Like\\r\\n                                        \\r\\n                                    \\r\\n                                                                    \\r\\n                            \\r\\n\\r\\n                        \\r\\n                            \\r\\n                                                                                    \\r\\n                              \\r\\n                            \\r\\n                                                        \\r\\n                        \\r\\n                    \\r\\n                \\r\\n            \\r\\n        \\r\\n        \\r\\n\\r\\n        \\r\\n                \\r\\n\\r\\n\\r\\n\\r\\n\\t\\r\\n\\t\\r\\n\\t\\r\\n\\t\\t\\r\\n\\t\\t\\t\\t\\t\\r\\n\\t\\t\\t\\r\\n\\t\\t\\t\\r\\n\\t\\t\\t\\t\\t\\r\\n\\t\\r\\n\\r\\n\\t\\r\\n\\t\\r\\n\\t\\t\\r\\n\\t\\t\\t\\t\\t\\r\\n\\t\\t\\t\\r\\n\\t\\t\\t\\r\\n\\t\\t\\t\\r\\n\\t\\t\\t\\t\\r\\n\\t\\r\\n\\r\\n\\t\\r\\n\\t \\r\\n\\t\\t\\t\\t\\t\\t\\r\\n\\t\\t\\t\\t\\t\\t\\t\\r\\n\\t\\t\\t\\t\\t\\t\\t\\r\\n\\t\\t\\t\\t\\t\\t\\r\\n\\t\\t\\t\\t\\t\\t\\r\\n\\t\\t\\t\\t\\t\\t\\t\\r\\n\\t\\t\\t\\t\\t\\r\\n\\t\\t\\t\\t\\t\\t\\t \\r\\n\\t\\t\\t\\t\\t\\t\\t\\t\\r\\n\\t\\t\\t\\t\\t\\t\\t\\t\\t\\r\\n\\t\\t\\t\\t\\t\\t\\t\\t\\t\\t\\r\\n\\t\\t\\t\\t\\t\\t\\t\\t\\t\\t\\t\\r\\n\\t\\t\\t\\t\\t\\t\\t\\t\\t\\t\\r\\n\\t\\t\\t\\t\\t\\t\\t\\t\\t\\t\\r\\n\\t\\t\\t\\t\\t\\t\\t\\t\\t\\t\\t\\r\\n\\t\\t\\t\\t\\t\\t\\t\\t\\t\\t\\t\\t\\r\\n\\t\\t\\t\\t\\t\\t\\t\\t\\t\\t\\t\\t\\t282k+ interested Geeks \\r\\n\\t\\t\\t\\t\\t\\t\\t\\t\\t\\t\\t\\t\\r\\n\\t\\t\\t\\t\\t\\t\\t\\t\\t\\t\\t\\r\\n\\t\\t\\t\\t\\t\\t\\t\\t\\t\\t\\t\\r\\n\\t\\t\\t\\t\\t\\t\\t\\t\\t\\t\\t\\tData Structures & Algorithms in Python - Self Paced \\r\\n\\t\\t\\t\\t\\t\\t\\t\\t\\t\\t\\t\\r\\n\\t\\t\\t\\t\\t\\t\\t\\t\\t\\t\\t\\r\\n\\t\\t\\t\\t\\t\\t\\t\\t\\t\\t\\t\\t\\r\\n\\t\\t\\t\\t\\t\\t\\t\\t\\t\\t\\t\\t\\r\\n\\t\\t\\t\\t\\t\\t\\t\\t\\t\\t\\t\\t\\tExplore \\r\\n\\t\\t\\t\\t\\t\\t\\t\\t\\t\\t\\t\\t\\r\\n\\t\\t\\t\\t\\t\\t\\t\\t\\t\\t\\t\\r\\n\\t\\t\\t\\t\\t\\t\\t\\t\\t\\t\\r\\n\\t\\t\\t\\t\\t\\t\\t\\t\\t\\r\\n\\t\\t\\t\\t\\t\\t\\t\\t\\r\\n\\t\\t\\t\\t\\t\\t\\t\\r\\n\\t\\t\\t\\t\\t\\t\\r\\n\\t\\t\\t\\t\\t\\t\\t \\r\\n\\t\\t\\t\\t\\t\\t\\t\\t\\r\\n\\t\\t\\t\\t\\t\\t\\t\\t\\t\\r\\n\\t\\t\\t\\t\\t\\t\\t\\t\\t\\t\\r\\n\\t\\t\\t\\t\\t\\t\\t\\t\\t\\t\\t\\r\\n\\t\\t\\t\\t\\t\\t\\t\\t\\t\\t\\r\\n\\t\\t\\t\\t\\t\\t\\t\\t\\t\\t\\r\\n\\t\\t\\t\\t\\t\\t\\t\\t\\t\\t\\t\\r\\n\\t\\t\\t\\t\\t\\t\\t\\t\\t\\t\\t\\t\\r\\n\\t\\t\\t\\t\\t\\t\\t\\t\\t\\t\\t\\t\\t297k+ interested Geeks \\r\\n\\t\\t\\t\\t\\t\\t\\t\\t\\t\\t\\t\\t\\r\\n\\t\\t\\t\\t\\t\\t\\t\\t\\t\\t\\t\\r\\n\\t\\t\\t\\t\\t\\t\\t\\t\\t\\t\\t\\r\\n\\t\\t\\t\\t\\t\\t\\t\\t\\t\\t\\t\\tComplete Machine Learning & Data Science Program \\r\\n\\t\\t\\t\\t\\t\\t\\t\\t\\t\\t\\t\\r\\n\\t\\t\\t\\t\\t\\t\\t\\t\\t\\t\\t\\r\\n\\t\\t\\t\\t\\t\\t\\t\\t\\t\\t\\t\\t\\r\\n\\t\\t\\t\\t\\t\\t\\t\\t\\t\\t\\t\\t\\r\\n\\t\\t\\t\\t\\t\\t\\t\\t\\t\\t\\t\\t\\tExplore \\r\\n\\t\\t\\t\\t\\t\\t\\t\\t\\t\\t\\t\\t\\r\\n\\t\\t\\t\\t\\t\\t\\t\\t\\t\\t\\t\\r\\n\\t\\t\\t\\t\\t\\t\\t\\t\\t\\t\\r\\n\\t\\t\\t\\t\\t\\t\\t\\t\\t\\r\\n\\t\\t\\t\\t\\t\\t\\t\\t\\r\\n\\t\\t\\t\\t\\t\\t\\t\\r\\n\\t\\t\\t\\t\\t\\t\\r\\n\\t\\t\\t\\t\\t\\t\\t \\r\\n\\t\\t\\t\\t\\t\\t\\t\\t\\r\\n\\t\\t\\t\\t\\t\\t\\t\\t\\t\\r\\n\\t\\t\\t\\t\\t\\t\\t\\t\\t\\t\\r\\n\\t\\t\\t\\t\\t\\t\\t\\t\\t\\t\\t\\r\\n\\t\\t\\t\\t\\t\\t\\t\\t\\t\\t\\r\\n\\t\\t\\t\\t\\t\\t\\t\\t\\t\\t\\r\\n\\t\\t\\t\\t\\t\\t\\t\\t\\t\\t\\t\\r\\n\\t\\t\\t\\t\\t\\t\\t\\t\\t\\t\\t\\t\\r\\n\\t\\t\\t\\t\\t\\t\\t\\t\\t\\t\\t\\t\\t193k+ interested Geeks \\r\\n\\t\\t\\t\\t\\t\\t\\t\\t\\t\\t\\t\\t\\r\\n\\t\\t\\t\\t\\t\\t\\t\\t\\t\\t\\t\\r\\n\\t\\t\\t\\t\\t\\t\\t\\t\\t\\t\\t\\r\\n\\t\\t\\t\\t\\t\\t\\t\\t\\t\\t\\t\\tPython Full Course Online - Complete Beginner to Advanced \\r\\n\\t\\t\\t\\t\\t\\t\\t\\t\\t\\t\\t\\r\\n\\t\\t\\t\\t\\t\\t\\t\\t\\t\\t\\t\\r\\n\\t\\t\\t\\t\\t\\t\\t\\t\\t\\t\\t\\t\\r\\n\\t\\t\\t\\t\\t\\t\\t\\t\\t\\t\\t\\t\\r\\n\\t\\t\\t\\t\\t\\t\\t\\t\\t\\t\\t\\t\\tExplore \\r\\n\\t\\t\\t\\t\\t\\t\\t\\t\\t\\t\\t\\t\\r\\n\\t\\t\\t\\t\\t\\t\\t\\t\\t\\t\\t\\r\\n\\t\\t\\t\\t\\t\\t\\t\\t\\t\\t\\r\\n\\t\\t\\t\\t\\t\\t\\t\\t\\t\\r\\n\\t\\t\\t\\t\\t\\t\\t\\t\\r\\n\\t\\t\\t\\t\\t\\t\\t\\r\\n\\t\\t\\t\\t\\t\\t    \\r\\n\\r\\n\\t\\r\\n\\t\\r\\n\\t\\t\\r\\n\\t\\t\\t\\t\\t\\r\\n\\t\\t\\t\\tExplore More\\r\\n\\t\\t\\t\\t\\r\\n\\t\\t\\t\\r\\n\\t\\t\\t\\t\\t\\t\\t\\r\\n\\t\\t\\t\\r\\n\\t\\t\\t\\r\\n\\r\\n\\t\\r\\n\\t\\r\\n\\t\\t\\r\\n\\t\\t \\r\\n\\t\\t\\r\\n\\t\\r\\n\\r\\n\\r\\n                \\r\\n        \\r\\n    \\r\\n    \\r\\n        \\r\\n            \\r\\n            \\r\\n        \\r\\n    \\r\\n\\r\\n\\r\\n\\r\\n\\r\\n\\r\\n\\r\\n\\r\\n\\r\\n\\r\\n\\r\\n\\r\\n\\r\\n\\r\\n\\t\\r\\n  \\r\\n    \\r\\n      \\r\\n      \\r\\n        \\r\\n        \\r\\n        \\r\\n            \\r\\n              \\r\\n                \\r\\n              \\r\\n            \\r\\n        \\r\\n        \\r\\n          \\r\\n        \\r\\n      \\r\\n    \\r\\n    \\r\\n  \\r\\n  \\r\\n  \\r\\n      \\r\\n          \\r\\n              \\r\\n                \\r\\n              \\r\\n              \\r\\n                  \\r\\n                  \\r\\n                     Corporate & Communications Address:- A-143, 9th Floor, Sovereign Corporate Tower, Sector- 136, Noida, Uttar Pradesh (201305) | Registered Address:- K 061, Tower K, Gulshan Vivante Apartment, Sector 137, Noida, Gautam Buddh Nagar, Uttar Pradesh, 201305                      \\r\\n              \\r\\n              \\r\\n                  \\r\\n                      \\r\\n                  \\r\\n                  \\r\\n                      \\r\\n                  \\r\\n                  \\r\\n                      \\r\\n                  \\r\\n                  \\r\\n                      \\r\\n                  \\r\\n                  \\r\\n                      \\r\\n                  \\r\\n                \\r\\n              \\r\\n                  \\r\\n                  \\r\\n              \\r\\n           \\r\\n        \\r\\n          CompanyAbout UsLegalCareersIn MediaContact UsAdvertise with usGFG Corporate SolutionPlacement Training ProgramExploreJob-A-Thon Hiring ChallengeHack-A-ThonGfG Weekly ContestOffline Classes (Delhi/NCR)DSA in JAVA/C++Master System DesignMaster CPGeeksforGeeks VideosGeeks CommunityLanguagesPythonJavaC++PHPGoLangSQLR LanguageAndroid TutorialDSAData StructuresAlgorithmsDSA for BeginnersBasic DSA ProblemsDSA RoadmapDSA Interview QuestionsCompetitive ProgrammingData Science & MLData Science With PythonData Science For BeginnerMachine Learning TutorialML MathsData Visualisation TutorialPandas TutorialNumPy TutorialNLP TutorialDeep Learning TutorialWeb TechnologiesHTMLCSSJavaScriptTypeScriptReactJSNextJSNodeJsBootstrapTailwind CSSPython TutorialPython Programming ExamplesDjango TutorialPython ProjectsPython TkinterWeb ScrapingOpenCV TutorialPython Interview QuestionComputer ScienceGATE CS NotesOperating SystemsComputer NetworkDatabase Management SystemSoftware EngineeringDigital Logic DesignEngineering MathsDevOpsGitAWSDockerKubernetesAzureGCPDevOps RoadmapSystem DesignHigh Level DesignLow Level DesignUML DiagramsInterview GuideDesign PatternsOOADSystem Design BootcampInterview QuestionsSchool SubjectsMathematicsPhysicsChemistryBiologySocial ScienceEnglish GrammarCommerceAccountancyBusiness StudiesEconomicsManagementHR ManagementFinanceIncome TaxDatabasesSQLMYSQLPostgreSQLPL/SQLMongoDBPreparation CornerCompany-Wise Recruitment ProcessResume TemplatesAptitude PreparationPuzzlesCompany-Wise PreparationCompaniesCollegesCompetitive ExamsJEE AdvancedUGC NETUPSCSSC CGLSBI POSBI ClerkIBPS POIBPS ClerkMore TutorialsSoftware DevelopmentSoftware TestingProduct ManagementProject ManagementLinuxExcelAll Cheat SheetsRecent ArticlesFree Online ToolsTyping TestImage EditorCode FormattersCode ConvertersCurrency ConverterRandom Number GeneratorRandom Password GeneratorWrite & EarnWrite an ArticleImprove an ArticlePick Topics to WriteShare your ExperiencesInternships         \\r\\n      \\r\\n            \\r\\n\\r\\n\\r\\n\\r\\n\\r\\n      \\r\\n          \\r\\n              @GeeksforGeeks, Sanchhaya Education Private Limited, All rights reserved\\r\\n          \\r\\n          \\r\\n          \\r\\n      \\r\\n  \\r\\n\\r\\n\\n\\n\\n\\r\\n\\r\\n\\r\\n    \\r\\n        We use cookies to ensure you have the best browsing experience on our website. By using our site, you\\r\\n        acknowledge that you have read and understood our\\r\\n        Cookie Policy &\\r\\n        Privacy Policy\\r\\n            \\r\\n    \\r\\n        Got It !\\r\\n    \\r\\n\\r\\n\\r\\n\\r\\n\\r\\n\\r\\n   \\r\\n   \\r\\n\\r\\n\\r\\n\\r\\n\\r\\n\\r\\n\\r\\n\\r\\n        \\r\\n            \\r\\n                \\r\\n                    Improvement\\r\\n                    \\r\\n                        \\r\\n                    \\r\\n                \\r\\n                \\r\\n                    Please go through our recently updated Improvement Guidelines before submitting any improvements.\\r\\n\\r\\n                    This improvement is locked by another user right now. You can suggest the changes for now and it will be under \\'My Suggestions\\' Tab on Write.\\r\\n                    You will be notified via email once the article is available for improvement.\\r\\n                        Thank you for your valuable feedback!\\r\\n                    \\r\\n                    \\r\\n                    \\r\\n                        Suggest changes\\r\\n                    \\r\\n                \\r\\n                \\r\\n                  Please go through our recently updated Improvement Guidelines before submitting any improvements.\\r\\n                  \\r\\n                    \\r\\n                      Suggest Changes\\r\\n                      Help us improve. Share your suggestions to enhance the article. Contribute your expertise and make a difference in the GeeksforGeeks portal.\\r\\n                    \\r\\n                    \\r\\n                      \\r\\n                    \\r\\n                  \\r\\n                  \\r\\n                    \\r\\n                      Create Improvement\\r\\n                      Enhance the article with your expertise. Contribute to the GeeksforGeeks community and help create better learning resources for all.\\r\\n                    \\r\\n                    \\r\\n                    \\r\\n                    \\r\\n                  \\r\\n                \\r\\n            \\r\\n            \\r\\n                \\r\\n                \\r\\n                  \\r\\n                    \\r\\n                      \\r\\n                    \\r\\n                    Suggest Changes\\r\\n                  \\r\\n                  \\r\\n                        \\r\\n                  \\r\\n                \\r\\n                \\r\\n                    \\r\\n                        min 4 words, max CharLimit:2000\\r\\n                        \\r\\n                        \\r\\n                    \\r\\n                 \\r\\n                \\r\\n                \\r\\n                    \\r\\n                    \\r\\n                \\r\\n            \\r\\n            \\r\\n                \\r\\n                  \\r\\n                    \\r\\n                      \\r\\n                    \\r\\n                    Create Improvement\\r\\n                  \\r\\n                  \\r\\n                        \\r\\n                  \\r\\n                \\r\\n                \\r\\n                \\r\\n                \\r\\n                    \\r\\n                \\r\\n            \\r\\n            \\r\\n        \\r\\n        \\r\\n    \\r\\n\\r\\n\\r\\n\\r\\n\\r\\n\\r\\n\\r\\n\\r\\n\\r\\n\\r\\n  \\r\\n\\r\\n\\r\\n\\r\\n\\r\\n\\r\\n\\r\\n\\r\\n\\r\\n\\r\\n\\r\\n\\r\\n\\r\\n\\r\\n\\n\\n        \\n            \\n                What kind of Experience do you want to share?\\n                \\n            \\n            \\n            \\n                \\n                    \\n                        \\n                    \\n                    \\n                        Interview Experiences\\n                    \\n                \\n                \\n                    \\n                        \\n                    \\n                    \\n                        Admission Experiences\\n                    \\n                \\n                \\n                    \\n                        \\n                    \\n                    \\n                        Career Journeys\\n                    \\n                \\n                \\n                    \\n                        \\n                    \\n                    \\n                        Work Experiences\\n                    \\n                \\n                \\n                    \\n                        \\n                    \\n                    \\n                        Campus Experiences\\n                    \\n                \\n                \\n                    \\n                        \\n                    \\n                    \\n                        Competitive Exam Experiences\\n                    \\n                \\n            \\n            \\n                \\n                    \\n                        Can\\'t choose a topic to write? click here for suggested topics\\n                    \\n                \\n                \\n                    \\n                       Write and publish your own Article')]"
      ]
     },
     "execution_count": 5,
     "metadata": {},
     "output_type": "execute_result"
    }
   ],
   "source": [
    "data"
   ]
  },
  {
   "cell_type": "code",
   "execution_count": 7,
   "metadata": {},
   "outputs": [
    {
     "data": {
      "text/plain": [
       "'c:\\\\Users\\\\vansh\\\\AI and ML reading material\\\\News-Research-Tool\\\\notebook trails'"
      ]
     },
     "execution_count": 7,
     "metadata": {},
     "output_type": "execute_result"
    }
   ],
   "source": [
    "pwd"
   ]
  },
  {
   "cell_type": "code",
   "execution_count": 1,
   "metadata": {},
   "outputs": [
    {
     "name": "stdout",
     "output_type": "stream",
     "text": [
      "Requirement already satisfied: faiss-cpu in c:\\users\\vansh\\anaconda3\\envs\\new_genai\\lib\\site-packages (1.8.0.post1)\n",
      "Requirement already satisfied: numpy<2.0,>=1.0 in c:\\users\\vansh\\anaconda3\\envs\\new_genai\\lib\\site-packages (from faiss-cpu) (1.24.3)\n",
      "Requirement already satisfied: packaging in c:\\users\\vansh\\anaconda3\\envs\\new_genai\\lib\\site-packages (from faiss-cpu) (24.1)\n",
      "Note: you may need to restart the kernel to use updated packages.\n",
      "Requirement already satisfied: sentence-transformers in c:\\users\\vansh\\anaconda3\\envs\\new_genai\\lib\\site-packages (3.0.1)\n",
      "Requirement already satisfied: transformers<5.0.0,>=4.34.0 in c:\\users\\vansh\\anaconda3\\envs\\new_genai\\lib\\site-packages (from sentence-transformers) (4.43.3)\n",
      "Requirement already satisfied: tqdm in c:\\users\\vansh\\anaconda3\\envs\\new_genai\\lib\\site-packages (from sentence-transformers) (4.66.4)\n",
      "Requirement already satisfied: torch>=1.11.0 in c:\\users\\vansh\\anaconda3\\envs\\new_genai\\lib\\site-packages (from sentence-transformers) (2.4.0)\n",
      "Requirement already satisfied: numpy in c:\\users\\vansh\\anaconda3\\envs\\new_genai\\lib\\site-packages (from sentence-transformers) (1.24.3)\n",
      "Requirement already satisfied: scikit-learn in c:\\users\\vansh\\anaconda3\\envs\\new_genai\\lib\\site-packages (from sentence-transformers) (1.3.2)\n",
      "Requirement already satisfied: scipy in c:\\users\\vansh\\anaconda3\\envs\\new_genai\\lib\\site-packages (from sentence-transformers) (1.10.1)\n",
      "Requirement already satisfied: huggingface-hub>=0.15.1 in c:\\users\\vansh\\anaconda3\\envs\\new_genai\\lib\\site-packages (from sentence-transformers) (0.24.5)\n",
      "Requirement already satisfied: Pillow in c:\\users\\vansh\\anaconda3\\envs\\new_genai\\lib\\site-packages (from sentence-transformers) (10.4.0)\n",
      "Requirement already satisfied: filelock in c:\\users\\vansh\\anaconda3\\envs\\new_genai\\lib\\site-packages (from huggingface-hub>=0.15.1->sentence-transformers) (3.13.1)\n",
      "Requirement already satisfied: fsspec>=2023.5.0 in c:\\users\\vansh\\anaconda3\\envs\\new_genai\\lib\\site-packages (from huggingface-hub>=0.15.1->sentence-transformers) (2024.6.1)\n",
      "Requirement already satisfied: packaging>=20.9 in c:\\users\\vansh\\anaconda3\\envs\\new_genai\\lib\\site-packages (from huggingface-hub>=0.15.1->sentence-transformers) (24.1)\n",
      "Requirement already satisfied: pyyaml>=5.1 in c:\\users\\vansh\\anaconda3\\envs\\new_genai\\lib\\site-packages (from huggingface-hub>=0.15.1->sentence-transformers) (6.0.1)\n",
      "Requirement already satisfied: requests in c:\\users\\vansh\\anaconda3\\envs\\new_genai\\lib\\site-packages (from huggingface-hub>=0.15.1->sentence-transformers) (2.32.3)\n",
      "Requirement already satisfied: typing-extensions>=3.7.4.3 in c:\\users\\vansh\\anaconda3\\envs\\new_genai\\lib\\site-packages (from huggingface-hub>=0.15.1->sentence-transformers) (4.11.0)\n",
      "Requirement already satisfied: sympy in c:\\users\\vansh\\anaconda3\\envs\\new_genai\\lib\\site-packages (from torch>=1.11.0->sentence-transformers) (1.12)\n",
      "Requirement already satisfied: networkx in c:\\users\\vansh\\anaconda3\\envs\\new_genai\\lib\\site-packages (from torch>=1.11.0->sentence-transformers) (3.1)\n",
      "Requirement already satisfied: jinja2 in c:\\users\\vansh\\anaconda3\\envs\\new_genai\\lib\\site-packages (from torch>=1.11.0->sentence-transformers) (3.1.4)\n",
      "Requirement already satisfied: colorama in c:\\users\\vansh\\anaconda3\\envs\\new_genai\\lib\\site-packages (from tqdm->sentence-transformers) (0.4.6)\n",
      "Requirement already satisfied: regex!=2019.12.17 in c:\\users\\vansh\\anaconda3\\envs\\new_genai\\lib\\site-packages (from transformers<5.0.0,>=4.34.0->sentence-transformers) (2024.7.24)\n",
      "Requirement already satisfied: safetensors>=0.4.1 in c:\\users\\vansh\\anaconda3\\envs\\new_genai\\lib\\site-packages (from transformers<5.0.0,>=4.34.0->sentence-transformers) (0.4.3)\n",
      "Requirement already satisfied: tokenizers<0.20,>=0.19 in c:\\users\\vansh\\anaconda3\\envs\\new_genai\\lib\\site-packages (from transformers<5.0.0,>=4.34.0->sentence-transformers) (0.19.1)\n",
      "Requirement already satisfied: joblib>=1.1.1 in c:\\users\\vansh\\anaconda3\\envs\\new_genai\\lib\\site-packages (from scikit-learn->sentence-transformers) (1.4.2)\n",
      "Requirement already satisfied: threadpoolctl>=2.0.0 in c:\\users\\vansh\\anaconda3\\envs\\new_genai\\lib\\site-packages (from scikit-learn->sentence-transformers) (3.5.0)\n",
      "Requirement already satisfied: MarkupSafe>=2.0 in c:\\users\\vansh\\anaconda3\\envs\\new_genai\\lib\\site-packages (from jinja2->torch>=1.11.0->sentence-transformers) (2.1.3)\n",
      "Requirement already satisfied: charset-normalizer<4,>=2 in c:\\users\\vansh\\anaconda3\\envs\\new_genai\\lib\\site-packages (from requests->huggingface-hub>=0.15.1->sentence-transformers) (3.3.2)\n",
      "Requirement already satisfied: idna<4,>=2.5 in c:\\users\\vansh\\anaconda3\\envs\\new_genai\\lib\\site-packages (from requests->huggingface-hub>=0.15.1->sentence-transformers) (3.7)\n",
      "Requirement already satisfied: urllib3<3,>=1.21.1 in c:\\users\\vansh\\anaconda3\\envs\\new_genai\\lib\\site-packages (from requests->huggingface-hub>=0.15.1->sentence-transformers) (2.2.2)\n",
      "Requirement already satisfied: certifi>=2017.4.17 in c:\\users\\vansh\\anaconda3\\envs\\new_genai\\lib\\site-packages (from requests->huggingface-hub>=0.15.1->sentence-transformers) (2024.7.4)\n",
      "Requirement already satisfied: mpmath>=0.19 in c:\\users\\vansh\\anaconda3\\envs\\new_genai\\lib\\site-packages (from sympy->torch>=1.11.0->sentence-transformers) (1.3.0)\n",
      "Note: you may need to restart the kernel to use updated packages.\n"
     ]
    }
   ],
   "source": [
    "%pip install faiss-cpu\n",
    "%pip install sentence-transformers"
   ]
  },
  {
   "cell_type": "code",
   "execution_count": 9,
   "metadata": {},
   "outputs": [
    {
     "data": {
      "text/html": [
       "<div>\n",
       "<style scoped>\n",
       "    .dataframe tbody tr th:only-of-type {\n",
       "        vertical-align: middle;\n",
       "    }\n",
       "\n",
       "    .dataframe tbody tr th {\n",
       "        vertical-align: top;\n",
       "    }\n",
       "\n",
       "    .dataframe thead th {\n",
       "        text-align: right;\n",
       "    }\n",
       "</style>\n",
       "<table border=\"1\" class=\"dataframe\">\n",
       "  <thead>\n",
       "    <tr style=\"text-align: right;\">\n",
       "      <th></th>\n",
       "      <th>text</th>\n",
       "      <th>category</th>\n",
       "    </tr>\n",
       "  </thead>\n",
       "  <tbody>\n",
       "    <tr>\n",
       "      <th>0</th>\n",
       "      <td>Meditation and yoga can improve mental health</td>\n",
       "      <td>Health</td>\n",
       "    </tr>\n",
       "    <tr>\n",
       "      <th>1</th>\n",
       "      <td>Fruits, whole grains and vegetables helps cont...</td>\n",
       "      <td>Health</td>\n",
       "    </tr>\n",
       "    <tr>\n",
       "      <th>2</th>\n",
       "      <td>These are the latest fashion trends for this week</td>\n",
       "      <td>Fashion</td>\n",
       "    </tr>\n",
       "    <tr>\n",
       "      <th>3</th>\n",
       "      <td>Vibrant color jeans for male are becoming a trend</td>\n",
       "      <td>Fashion</td>\n",
       "    </tr>\n",
       "    <tr>\n",
       "      <th>4</th>\n",
       "      <td>The concert starts at 7 PM tonight</td>\n",
       "      <td>Event</td>\n",
       "    </tr>\n",
       "    <tr>\n",
       "      <th>5</th>\n",
       "      <td>Navaratri dandiya program at Expo center in Mu...</td>\n",
       "      <td>Event</td>\n",
       "    </tr>\n",
       "    <tr>\n",
       "      <th>6</th>\n",
       "      <td>Exciting vacation destinations for your next trip</td>\n",
       "      <td>Travel</td>\n",
       "    </tr>\n",
       "    <tr>\n",
       "      <th>7</th>\n",
       "      <td>Maldives and Srilanka are gaining popularity i...</td>\n",
       "      <td>Travel</td>\n",
       "    </tr>\n",
       "  </tbody>\n",
       "</table>\n",
       "</div>"
      ],
      "text/plain": [
       "                                                text category\n",
       "0      Meditation and yoga can improve mental health   Health\n",
       "1  Fruits, whole grains and vegetables helps cont...   Health\n",
       "2  These are the latest fashion trends for this week  Fashion\n",
       "3  Vibrant color jeans for male are becoming a trend  Fashion\n",
       "4                 The concert starts at 7 PM tonight    Event\n",
       "5  Navaratri dandiya program at Expo center in Mu...    Event\n",
       "6  Exciting vacation destinations for your next trip   Travel\n",
       "7  Maldives and Srilanka are gaining popularity i...   Travel"
      ]
     },
     "execution_count": 9,
     "metadata": {},
     "output_type": "execute_result"
    }
   ],
   "source": [
    "import pandas as pd\n",
    "df = pd.read_csv(\"sample_text.csv\")\n",
    "df"
   ]
  },
  {
   "cell_type": "code",
   "execution_count": 11,
   "metadata": {},
   "outputs": [
    {
     "data": {
      "text/plain": [
       "(8, 768)"
      ]
     },
     "execution_count": 11,
     "metadata": {},
     "output_type": "execute_result"
    }
   ],
   "source": [
    "from sentence_transformers import SentenceTransformer\n",
    "\n",
    "encoder = SentenceTransformer(\"all-mpnet-base-v2\")\n",
    "vectors = encoder.encode(df.text)\n",
    "vectors.shape"
   ]
  }
 ],
 "metadata": {
  "kernelspec": {
   "display_name": "new_genai",
   "language": "python",
   "name": "python3"
  },
  "language_info": {
   "codemirror_mode": {
    "name": "ipython",
    "version": 3
   },
   "file_extension": ".py",
   "mimetype": "text/x-python",
   "name": "python",
   "nbconvert_exporter": "python",
   "pygments_lexer": "ipython3",
   "version": "3.8.19"
  }
 },
 "nbformat": 4,
 "nbformat_minor": 2
}
